{
 "cells": [
  {
   "cell_type": "markdown",
   "id": "3a9f6265",
   "metadata": {
    "toc": true
   },
   "source": [
    "<h1>Table of Contents<span class=\"tocSkip\"></span></h1>\n",
    "<div class=\"toc\"><ul class=\"toc-item\"></ul></div>"
   ]
  },
  {
   "cell_type": "code",
   "execution_count": 1,
   "id": "84a91546",
   "metadata": {
    "ExecuteTime": {
     "end_time": "2021-08-08T07:58:29.686869Z",
     "start_time": "2021-08-08T07:58:27.823848Z"
    }
   },
   "outputs": [
    {
     "name": "stderr",
     "output_type": "stream",
     "text": [
      "/var/folders/cl/hlxnjsfd57l9t45z49c9806m0000gn/T/ipykernel_78900/1452074815.py:6: DeprecationWarning: `np.int` is a deprecated alias for the builtin `int`. To silence this warning, use `int` by itself. Doing this will not modify any behavior and is safe. When replacing `np.int`, you may wish to use e.g. `np.int64` or `np.int32` to specify the precision. If you wish to review your current use, check the release note link for additional information.\n",
      "Deprecated in NumPy 1.20; for more details and guidance: https://numpy.org/devdocs/release/1.20.0-notes.html#deprecations\n",
      "  return np.array(x > 0, dtype=np.int)\n"
     ]
    },
    {
     "data": {
      "image/png": "[encoded data removed]",
      "text/plain": [
       "<Figure size 432x288 with 1 Axes>"
      ]
     },
     "metadata": {
      "needs_background": "light"
     },
     "output_type": "display_data"
    }
   ],
   "source": [
    "import numpy as np\n",
    "import matplotlib.pylab as plt\n",
    "\n",
    "\n",
    "def step_function(x):\n",
    "    return np.array(x > 0, dtype=np.int)\n",
    "\n",
    "\n",
    "X = np.arange(-5.0, 5.0, 0.1)\n",
    "Y = step_function(X)\n",
    "plt.plot(X, Y)\n",
    "plt.ylim(-0.1, 1.1)\n",
    "plt.show()"
   ]
  },
  {
   "cell_type": "code",
   "execution_count": 10,
   "id": "8e3b1506",
   "metadata": {
    "ExecuteTime": {
     "end_time": "2021-08-08T08:05:45.754883Z",
     "start_time": "2021-08-08T08:05:45.739403Z"
    }
   },
   "outputs": [],
   "source": [
    "def A(x, y):\n",
    "    if x > y > 21:\n",
    "        pass\n",
    "    else:\n",
    "        return False\n",
    "    return True"
   ]
  },
  {
   "cell_type": "code",
   "execution_count": 11,
   "id": "5107ef9b",
   "metadata": {
    "ExecuteTime": {
     "end_time": "2021-08-08T08:05:52.774346Z",
     "start_time": "2021-08-08T08:05:52.763933Z"
    }
   },
   "outputs": [
    {
     "data": {
      "text/plain": [
       "True"
      ]
     },
     "execution_count": 11,
     "metadata": {},
     "output_type": "execute_result"
    }
   ],
   "source": [
    "A(23, 22)"
   ]
  },
  {
   "cell_type": "code",
   "execution_count": 12,
   "id": "618059af",
   "metadata": {
    "ExecuteTime": {
     "end_time": "2021-08-08T08:05:56.901523Z",
     "start_time": "2021-08-08T08:05:56.893716Z"
    }
   },
   "outputs": [
    {
     "data": {
      "text/plain": [
       "False"
      ]
     },
     "execution_count": 12,
     "metadata": {},
     "output_type": "execute_result"
    }
   ],
   "source": [
    "A(21, 23)"
   ]
  },
  {
   "cell_type": "code",
   "execution_count": 5,
   "id": "a4515359",
   "metadata": {
    "ExecuteTime": {
     "end_time": "2021-08-12T16:19:41.259291Z",
     "start_time": "2021-08-12T16:19:41.247624Z"
    }
   },
   "outputs": [],
   "source": [
    "def word_search(doc_list, keyword):\n",
    "    \"\"\"\n",
    "    Takes a list of documents (each document is a string) and a keyword. \n",
    "    Returns list of the index values into the original list for all documents \n",
    "    containing the keyword.\n",
    "\n",
    "    Example:\n",
    "    doc_list = [\"The Learn Python Challenge Casino.\", \"They bought a car\", \"Casinoville\"]\n",
    "    >>> word_search(doc_list, 'casino')\n",
    "    >>> [0]\n",
    "    \"\"\"\n",
    "    # pass\n",
    "    index_list = []\n",
    "    for i in range(len(doc_list)):\n",
    "        if keyword.upper() in doc_list[i].upper().split():\n",
    "            index_list.append(i)\n",
    "        else:\n",
    "            pass\n",
    "    return index_list"
   ]
  },
  {
   "cell_type": "code",
   "execution_count": 6,
   "id": "7464c064",
   "metadata": {
    "ExecuteTime": {
     "end_time": "2021-08-12T16:19:43.700224Z",
     "start_time": "2021-08-12T16:19:43.695511Z"
    }
   },
   "outputs": [],
   "source": [
    "doc_list = [\"The Learn Python Challenge Casino.\",\n",
    "            \"They bought a car\", \"Casinoville\"]"
   ]
  },
  {
   "cell_type": "code",
   "execution_count": 7,
   "id": "fdc1d596",
   "metadata": {
    "ExecuteTime": {
     "end_time": "2021-08-12T16:19:44.740914Z",
     "start_time": "2021-08-12T16:19:44.722440Z"
    }
   },
   "outputs": [
    {
     "data": {
      "text/plain": [
       "[]"
      ]
     },
     "execution_count": 7,
     "metadata": {},
     "output_type": "execute_result"
    }
   ],
   "source": [
    "word_search(doc_list, 'casino')"
   ]
  },
  {
   "cell_type": "code",
   "execution_count": 28,
   "id": "30e0a315",
   "metadata": {
    "ExecuteTime": {
     "end_time": "2021-08-12T17:07:34.858790Z",
     "start_time": "2021-08-12T17:07:34.839655Z"
    }
   },
   "outputs": [
    {
     "name": "stdout",
     "output_type": "stream",
     "text": [
      "THE\n",
      "LEARN\n",
      "PYTHON\n",
      "CHALLENGE\n",
      "CASINO\n"
     ]
    }
   ],
   "source": [
    "for a in \"The Learn? Python Challenge! Casino.\".upper().split():\n",
    "    print(a.strip(\",.?!\"))"
   ]
  },
  {
   "cell_type": "code",
   "execution_count": 29,
   "id": "e1f9c855",
   "metadata": {
    "ExecuteTime": {
     "end_time": "2021-08-12T17:07:39.792549Z",
     "start_time": "2021-08-12T17:07:39.787065Z"
    }
   },
   "outputs": [],
   "source": [
    "search_dict = {}"
   ]
  },
  {
   "cell_type": "code",
   "execution_count": 30,
   "id": "2064ad94",
   "metadata": {
    "ExecuteTime": {
     "end_time": "2021-08-12T17:07:46.750459Z",
     "start_time": "2021-08-12T17:07:46.741492Z"
    }
   },
   "outputs": [
    {
     "data": {
      "text/plain": [
       "{}"
      ]
     },
     "execution_count": 30,
     "metadata": {},
     "output_type": "execute_result"
    }
   ],
   "source": [
    "search_dict"
   ]
  },
  {
   "cell_type": "code",
   "execution_count": 35,
   "id": "8f6ca938",
   "metadata": {
    "ExecuteTime": {
     "end_time": "2021-08-15T21:53:02.347493Z",
     "start_time": "2021-08-15T21:53:02.331876Z"
    }
   },
   "outputs": [],
   "source": [
    "def blackjack_hand_greater_than(hand_1, hand_2):\n",
    "    \"\"\"\n",
    "    Return True if hand_1 beats hand_2, and False otherwise.\n",
    "\n",
    "    In order for hand_1 to beat hand_2 the following must be true:\n",
    "    - The total of hand_1 must not exceed 21\n",
    "    - The total of hand_1 must exceed the total of hand_2 OR hand_2's total must exceed 21\n",
    "\n",
    "    Hands are represented as a list of cards. Each card is represented by a string.\n",
    "\n",
    "    When adding up a hand's total, cards with numbers count for that many points. Face\n",
    "    cards ('J', 'Q', and 'K') are worth 10 points. 'A' can count for 1 or 11.\n",
    "\n",
    "    When determining a hand's total, you should try to count aces in the way that \n",
    "    maximizes the hand's total without going over 21. e.g. the total of ['A', 'A', '9'] is 21,\n",
    "    the total of ['A', 'A', '9', '3'] is 14.\n",
    "\n",
    "    Examples:\n",
    "    >>> blackjack_hand_greater_than(['K'], ['3', '4'])\n",
    "    True\n",
    "    >>> blackjack_hand_greater_than(['K'], ['10'])\n",
    "    False\n",
    "    >>> blackjack_hand_greater_than(['K', 'K', '2'], ['3'])\n",
    "    False\n",
    "    \"\"\"\n",
    "    # pass\n",
    "    face_cards = ['J', 'Q', 'K']\n",
    "    count_hand_1 = 0\n",
    "    count_A_1 = 0\n",
    "    for card_1 in hand_1:\n",
    "        if card_1 in face_cards:\n",
    "            count_hand_1 += 10\n",
    "        elif card_1 == 'A':\n",
    "            count_hand_1 += 1\n",
    "            count_A_1 += 1\n",
    "        else:\n",
    "            count_hand_1 += int(card_1)\n",
    "    while count_A_1 >= 1:\n",
    "        if count_hand_1 <= 12:\n",
    "            count_hand_1 += 9\n",
    "            count_A_1 -= 1\n",
    "        else:\n",
    "            break\n",
    "    count_hand_2 = 0\n",
    "    count_A_2 = 0\n",
    "    for card_2 in hand_2:\n",
    "        if card_2 in face_cards:\n",
    "            count_hand_2 += 10\n",
    "        elif card_2 == 'A':\n",
    "            count_hand_2 += 1\n",
    "            count_A_2 += 1\n",
    "        else:\n",
    "            count_hand_2 += int(card_2)\n",
    "    return count_hand_1, count_A_1, count_hand_2, count_A_2"
   ]
  },
  {
   "cell_type": "code",
   "execution_count": 38,
   "id": "dc4542fe",
   "metadata": {
    "ExecuteTime": {
     "end_time": "2021-08-15T21:54:26.046871Z",
     "start_time": "2021-08-15T21:54:26.036975Z"
    }
   },
   "outputs": [],
   "source": [
    "hand_1 = ['2', '10', '5', 'A', '9', '9']\n",
    "hand_2 = ['5', '7', '5', 'Q', '5']"
   ]
  },
  {
   "cell_type": "code",
   "execution_count": 39,
   "id": "d13d5bcd",
   "metadata": {
    "ExecuteTime": {
     "end_time": "2021-08-15T21:54:28.400520Z",
     "start_time": "2021-08-15T21:54:28.394153Z"
    }
   },
   "outputs": [
    {
     "data": {
      "text/plain": [
       "(36, 1, 32, 0)"
      ]
     },
     "execution_count": 39,
     "metadata": {},
     "output_type": "execute_result"
    }
   ],
   "source": [
    "blackjack_hand_greater_than(hand_1, hand_2)"
   ]
  },
  {
   "cell_type": "code",
   "execution_count": null,
   "id": "882f1c42",
   "metadata": {},
   "outputs": [],
   "source": []
  }
 ],
 "metadata": {
  "kernelspec": {
   "display_name": "Python 3 (ipykernel)",
   "language": "python",
   "name": "python3"
  },
  "language_info": {
   "codemirror_mode": {
    "name": "ipython",
    "version": 3
   },
   "file_extension": ".py",
   "mimetype": "text/x-python",
   "name": "python",
   "nbconvert_exporter": "python",
   "pygments_lexer": "ipython3",
   "version": "3.9.6"
  },
  "latex_envs": {
   "LaTeX_envs_menu_present": true,
   "autoclose": false,
   "autocomplete": true,
   "bibliofile": "biblio.bib",
   "cite_by": "apalike",
   "current_citInitial": 1,
   "eqLabelWithNumbers": true,
   "eqNumInitial": 1,
   "hotkeys": {
    "equation": "Ctrl-E",
    "itemize": "Ctrl-I"
   },
   "labels_anchors": false,
   "latex_user_defs": false,
   "report_style_numbering": false,
   "user_envs_cfg": false
  },
  "nbTranslate": {
   "displayLangs": [
    "*"
   ],
   "hotkey": "alt-t",
   "langInMainMenu": true,
   "sourceLang": "en",
   "targetLang": "fr",
   "useGoogleTranslate": true
  },
  "toc": {
   "base_numbering": 1,
   "nav_menu": {},
   "number_sections": true,
   "sideBar": true,
   "skip_h1_title": false,
   "title_cell": "Table of Contents",
   "title_sidebar": "Contents",
   "toc_cell": true,
   "toc_position": {},
   "toc_section_display": true,
   "toc_window_display": true
  },
  "varInspector": {
   "cols": {
    "lenName": 16,
    "lenType": 16,
    "lenVar": 40
   },
   "kernels_config": {
    "python": {
     "delete_cmd_postfix": "",
     "delete_cmd_prefix": "del ",
     "library": "var_list.py",
     "varRefreshCmd": "print(var_dic_list())"
    },
    "r": {
     "delete_cmd_postfix": ") ",
     "delete_cmd_prefix": "rm(",
     "library": "var_list.r",
     "varRefreshCmd": "cat(var_dic_list()) "
    }
   },
   "types_to_exclude": [
    "module",
    "function",
    "builtin_function_or_method",
    "instance",
    "_Feature"
   ],
   "window_display": true
  }
 },
 "nbformat": 4,
 "nbformat_minor": 5
}
