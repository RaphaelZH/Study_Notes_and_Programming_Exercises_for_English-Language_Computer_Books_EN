{
 "cells": [
  {
   "cell_type": "markdown",
   "metadata": {
    "toc": true
   },
   "source": [
    "<h1>Table of Contents<span class=\"tocSkip\"></span></h1>\n",
    "<div class=\"toc\"><ul class=\"toc-item\"><li><span><a href=\"#The-realization-of-the-perceptron\" data-toc-modified-id=\"The-realization-of-the-perceptron-1\"><span class=\"toc-item-num\">1&nbsp;&nbsp;</span>The realization of the perceptron</a></span><ul class=\"toc-item\"><li><span><a href=\"#AND-gate\" data-toc-modified-id=\"AND-gate-1.1\"><span class=\"toc-item-num\">1.1&nbsp;&nbsp;</span>AND gate</a></span></li><li><span><a href=\"#NAND-gate\" data-toc-modified-id=\"NAND-gate-1.2\"><span class=\"toc-item-num\">1.2&nbsp;&nbsp;</span>NAND gate</a></span></li><li><span><a href=\"#OR-gate\" data-toc-modified-id=\"OR-gate-1.3\"><span class=\"toc-item-num\">1.3&nbsp;&nbsp;</span>OR gate</a></span></li><li><span><a href=\"#XOR-gate\" data-toc-modified-id=\"XOR-gate-1.4\"><span class=\"toc-item-num\">1.4&nbsp;&nbsp;</span>XOR gate</a></span></li></ul></li></ul></div>"
   ]
  },
  {
   "cell_type": "markdown",
   "metadata": {},
   "source": [
    "# The realization of the perceptron"
   ]
  },
  {
   "cell_type": "markdown",
   "metadata": {},
   "source": [
    "## AND gate"
   ]
  },
  {
   "cell_type": "code",
   "execution_count": 1,
   "metadata": {
    "ExecuteTime": {
     "end_time": "2021-07-23T21:09:22.392078Z",
     "start_time": "2021-07-23T21:09:22.258253Z"
    }
   },
   "outputs": [],
   "source": [
    "\"\"\"\n",
    "def AND(x1, x2):\n",
    "    w1, w2, theta = 0.5, 0.5, 0.7\n",
    "    tmp = x1 * w1 + x2 * w2\n",
    "    if tmp <= theta:\n",
    "        return 0\n",
    "    elif tmp > theta:\n",
    "        return 1\n",
    "\"\"\"\n",
    "\n",
    "import numpy as np\n",
    "\n",
    "\n",
    "def AND(x1, x2):\n",
    "    x = np.array([x1, x2])\n",
    "    w = np.array([0.5, 0.5])\n",
    "    b = -0.7\n",
    "    tmp = np.sum(w * x) + b\n",
    "    if tmp <= 0:\n",
    "        return 0\n",
    "    else:\n",
    "        return 1"
   ]
  },
  {
   "cell_type": "code",
   "execution_count": 2,
   "metadata": {
    "ExecuteTime": {
     "end_time": "2021-07-23T21:09:22.453951Z",
     "start_time": "2021-07-23T21:09:22.407041Z"
    }
   },
   "outputs": [
    {
     "name": "stdout",
     "output_type": "stream",
     "text": [
      "+----+----+---+\n",
      "| x1 | x2 | y |\n",
      "+----+----+---+\n",
      "| 0  | 0  | 0 |\n",
      "+----+----+---+\n",
      "| 1  | 0  | 0 |\n",
      "+----+----+---+\n",
      "| 0  | 1  | 0 |\n",
      "+----+----+---+\n",
      "| 1  | 1  | 1 |\n",
      "+----+----+---+\n"
     ]
    }
   ],
   "source": [
    "from beautifultable import BeautifulTable\n",
    "\n",
    "table = BeautifulTable()\n",
    "table.rows.append([0, 0, AND(0, 0)])\n",
    "table.rows.append([1, 0, AND(1, 0)])\n",
    "table.rows.append([0, 1, AND(0, 1)])\n",
    "table.rows.append([1, 1, AND(1, 1)])\n",
    "table.columns.header = [\"x1\", \"x2\", \"y\"]\n",
    "print(table)"
   ]
  },
  {
   "cell_type": "markdown",
   "metadata": {},
   "source": [
    "## NAND gate"
   ]
  },
  {
   "cell_type": "code",
   "execution_count": 3,
   "metadata": {
    "ExecuteTime": {
     "end_time": "2021-07-23T21:09:22.462558Z",
     "start_time": "2021-07-23T21:09:22.458583Z"
    }
   },
   "outputs": [],
   "source": [
    "def NAND(x1, x2):\n",
    "    x = np.array([x1, x2])\n",
    "    w = np.array([-0.5, -0.5])\n",
    "    b = 0.7\n",
    "    tmp = np.sum(w * x) + b\n",
    "    if tmp <= 0:\n",
    "        return 0\n",
    "    else:\n",
    "        return 1"
   ]
  },
  {
   "cell_type": "code",
   "execution_count": 4,
   "metadata": {
    "ExecuteTime": {
     "end_time": "2021-07-23T21:09:22.479418Z",
     "start_time": "2021-07-23T21:09:22.469286Z"
    }
   },
   "outputs": [
    {
     "name": "stdout",
     "output_type": "stream",
     "text": [
      "+----+----+---+\n",
      "| x1 | x2 | y |\n",
      "+----+----+---+\n",
      "| 0  | 0  | 1 |\n",
      "+----+----+---+\n",
      "| 1  | 0  | 1 |\n",
      "+----+----+---+\n",
      "| 0  | 1  | 1 |\n",
      "+----+----+---+\n",
      "| 1  | 1  | 0 |\n",
      "+----+----+---+\n"
     ]
    }
   ],
   "source": [
    "table = BeautifulTable()\n",
    "table.rows.append([0, 0, NAND(0, 0)])\n",
    "table.rows.append([1, 0, NAND(1, 0)])\n",
    "table.rows.append([0, 1, NAND(0, 1)])\n",
    "table.rows.append([1, 1, NAND(1, 1)])\n",
    "table.columns.header = [\"x1\", \"x2\", \"y\"]\n",
    "print(table)"
   ]
  },
  {
   "cell_type": "markdown",
   "metadata": {},
   "source": [
    "## OR gate"
   ]
  },
  {
   "cell_type": "code",
   "execution_count": 5,
   "metadata": {
    "ExecuteTime": {
     "end_time": "2021-07-23T21:09:22.487561Z",
     "start_time": "2021-07-23T21:09:22.482947Z"
    }
   },
   "outputs": [],
   "source": [
    "def OR(x1, x2):\n",
    "    x = np.array([x1, x2])\n",
    "    w = np.array([0.5, 0.5])\n",
    "    b = -0.2\n",
    "    tmp = np.sum(w * x) + b\n",
    "    if tmp <= 0:\n",
    "        return 0\n",
    "    else:\n",
    "        return 1"
   ]
  },
  {
   "cell_type": "code",
   "execution_count": 6,
   "metadata": {
    "ExecuteTime": {
     "end_time": "2021-07-23T21:09:22.502013Z",
     "start_time": "2021-07-23T21:09:22.493061Z"
    }
   },
   "outputs": [
    {
     "name": "stdout",
     "output_type": "stream",
     "text": [
      "+----+----+---+\n",
      "| x1 | x2 | y |\n",
      "+----+----+---+\n",
      "| 0  | 0  | 0 |\n",
      "+----+----+---+\n",
      "| 1  | 0  | 1 |\n",
      "+----+----+---+\n",
      "| 0  | 1  | 1 |\n",
      "+----+----+---+\n",
      "| 1  | 1  | 1 |\n",
      "+----+----+---+\n"
     ]
    }
   ],
   "source": [
    "table = BeautifulTable()\n",
    "table.rows.append([0, 0, OR(0, 0)])\n",
    "table.rows.append([1, 0, OR(1, 0)])\n",
    "table.rows.append([0, 1, OR(0, 1)])\n",
    "table.rows.append([1, 1, OR(1, 1)])\n",
    "table.columns.header = [\"x1\", \"x2\", \"y\"]\n",
    "print(table)"
   ]
  },
  {
   "cell_type": "markdown",
   "metadata": {},
   "source": [
    "## XOR gate"
   ]
  },
  {
   "cell_type": "code",
   "execution_count": 7,
   "metadata": {
    "ExecuteTime": {
     "end_time": "2021-07-23T21:09:22.527241Z",
     "start_time": "2021-07-23T21:09:22.522520Z"
    }
   },
   "outputs": [],
   "source": [
    "def XOR(x1, x2):\n",
    "    s1 = NAND(x1, x2)\n",
    "    s2 = OR(x1, x2)\n",
    "    y = AND(x1, x2)\n",
    "    return y"
   ]
  },
  {
   "cell_type": "code",
   "execution_count": 8,
   "metadata": {
    "ExecuteTime": {
     "end_time": "2021-07-23T21:09:22.559805Z",
     "start_time": "2021-07-23T21:09:22.551980Z"
    }
   },
   "outputs": [
    {
     "name": "stdout",
     "output_type": "stream",
     "text": [
      "+----+----+---+\n",
      "| x1 | x2 | y |\n",
      "+----+----+---+\n",
      "| 0  | 0  | 0 |\n",
      "+----+----+---+\n",
      "| 1  | 0  | 0 |\n",
      "+----+----+---+\n",
      "| 0  | 1  | 0 |\n",
      "+----+----+---+\n",
      "| 1  | 1  | 1 |\n",
      "+----+----+---+\n"
     ]
    }
   ],
   "source": [
    "table = BeautifulTable()\n",
    "table.rows.append([0, 0, XOR(0, 0)])\n",
    "table.rows.append([1, 0, XOR(1, 0)])\n",
    "table.rows.append([0, 1, XOR(0, 1)])\n",
    "table.rows.append([1, 1, XOR(1, 1)])\n",
    "table.columns.header = [\"x1\", \"x2\", \"y\"]\n",
    "print(table)"
   ]
  }
 ],
 "metadata": {
  "kernelspec": {
   "display_name": "Python 3",
   "language": "python",
   "name": "python3"
  },
  "language_info": {
   "codemirror_mode": {
    "name": "ipython",
    "version": 3
   },
   "file_extension": ".py",
   "mimetype": "text/x-python",
   "name": "python",
   "nbconvert_exporter": "python",
   "pygments_lexer": "ipython3",
   "version": "3.7.9"
  },
  "latex_envs": {
   "LaTeX_envs_menu_present": true,
   "autoclose": false,
   "autocomplete": true,
   "bibliofile": "biblio.bib",
   "cite_by": "apalike",
   "current_citInitial": 1,
   "eqLabelWithNumbers": true,
   "eqNumInitial": 1,
   "hotkeys": {
    "equation": "Ctrl-E",
    "itemize": "Ctrl-I"
   },
   "labels_anchors": false,
   "latex_user_defs": false,
   "report_style_numbering": false,
   "user_envs_cfg": false
  },
  "nbTranslate": {
   "displayLangs": [
    "*"
   ],
   "hotkey": "alt-t",
   "langInMainMenu": true,
   "sourceLang": "en",
   "targetLang": "fr",
   "useGoogleTranslate": true
  },
  "toc": {
   "base_numbering": 1,
   "nav_menu": {},
   "number_sections": true,
   "sideBar": true,
   "skip_h1_title": false,
   "title_cell": "Table of Contents",
   "title_sidebar": "Contents",
   "toc_cell": true,
   "toc_position": {},
   "toc_section_display": true,
   "toc_window_display": true
  },
  "varInspector": {
   "cols": {
    "lenName": 16,
    "lenType": 16,
    "lenVar": 40
   },
   "kernels_config": {
    "python": {
     "delete_cmd_postfix": "",
     "delete_cmd_prefix": "del ",
     "library": "var_list.py",
     "varRefreshCmd": "print(var_dic_list())"
    },
    "r": {
     "delete_cmd_postfix": ") ",
     "delete_cmd_prefix": "rm(",
     "library": "var_list.r",
     "varRefreshCmd": "cat(var_dic_list()) "
    }
   },
   "types_to_exclude": [
    "module",
    "function",
    "builtin_function_or_method",
    "instance",
    "_Feature"
   ],
   "window_display": true
  }
 },
 "nbformat": 4,
 "nbformat_minor": 4
}
